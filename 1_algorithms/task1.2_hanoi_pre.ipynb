{
  "cells": [
    {
      "cell_type": "markdown",
      "id": "100d2b05",
      "metadata": {},
      "source": [
        "# Task 1.2 Towers of Hanoi\n",
        "\n",
        "1. Implement the algorithm in the lecture notes\n",
        "2. Produce the solution for 3, 5 and 7 disks\n",
        "3. [optional] What is the general formula for the number of steps needed to solve the puzzle with $n$ disks?"
      ]
    },
    {
      "cell_type": "code",
      "execution_count": 1,
      "id": "ea0e6dd4",
      "metadata": {},
      "outputs": [],
      "source": [
        "def move(frm,to):\n",
        "  \"\"\"Print the move from one peg to another.\"\"\"\n",
        "  print(f\"Move disk from {frm} to {to}\")\n",
        "\n",
        "def move_via(frm,via,to):\n",
        "  \"\"\"Move via an auxiliary peg.\"\"\"\n",
        "  pass # your code here\n",
        "\n",
        "def hanoi_solver(n: int,source,auxiliary,target):\n",
        "  \"\"\"Print the moves to solve Tower of Hanoi with n disks.\"\"\"\n",
        "  pass # your code here\n",
        "\n",
        "# your code here"
      ]
    }
  ],
  "metadata": {
    "kernelspec": {
      "display_name": "base",
      "language": "python",
      "name": "python3"
    },
    "language_info": {
      "codemirror_mode": {
        "name": "ipython",
        "version": 3
      },
      "file_extension": ".py",
      "mimetype": "text/x-python",
      "name": "python",
      "nbconvert_exporter": "python",
      "pygments_lexer": "ipython3",
      "version": "3.12.2"
    }
  },
  "nbformat": 4,
  "nbformat_minor": 5
}