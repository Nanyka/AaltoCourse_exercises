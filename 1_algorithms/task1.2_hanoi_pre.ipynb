{
 "cells": [
  {
   "cell_type": "markdown",
   "id": "100d2b05",
   "metadata": {},
   "source": [
    "# Task 1.2 Towers of Hanoi\n",
    "\n",
    "1. Implement the algorithm in the lecture notes\n",
    "2. Produce the solution for 3, 5 and 7 disks\n",
    "3. [optional] What is the general formula for the number of steps needed to solve the puzzle with $n$ disks?"
   ]
  },
  {
   "cell_type": "code",
   "id": "ea0e6dd4",
   "metadata": {
    "ExecuteTime": {
     "end_time": "2025-09-02T03:52:13.518046Z",
     "start_time": "2025-09-02T03:52:13.511197Z"
    }
   },
   "source": [
    "def move(frm,to):\n",
    "  \"\"\"Print the move from one peg to another.\"\"\"\n",
    "  print(f\"Move disk from {frm} to {to}\")\n",
    "\n",
    "def hanoi_solver(n: int,source,aux,target):\n",
    "  \"\"\"Print the moves to solve Tower of Hanoi with n disks.\"\"\"\n",
    "  if n==0:\n",
    "    return\n",
    "  if n==1:\n",
    "    move(source,target)\n",
    "  if n>1:\n",
    "    hanoi_solver(n-1,source,target,aux)\n",
    "    move(source,target)\n",
    "    hanoi_solver(n-1,aux,source,target)\n",
    "\n",
    "hanoi_solver(4,\"A\",\"B\",\"C\")"
   ],
   "outputs": [
    {
     "name": "stdout",
     "output_type": "stream",
     "text": [
      "Move disk from A to B\n",
      "Move disk from A to C\n",
      "Move disk from B to C\n",
      "Move disk from A to B\n",
      "Move disk from C to A\n",
      "Move disk from C to B\n",
      "Move disk from A to B\n",
      "Move disk from A to C\n",
      "Move disk from B to C\n",
      "Move disk from B to A\n",
      "Move disk from C to A\n",
      "Move disk from B to C\n",
      "Move disk from A to B\n",
      "Move disk from A to C\n",
      "Move disk from B to C\n"
     ]
    }
   ],
   "execution_count": 8
  }
 ],
 "metadata": {
  "kernelspec": {
   "display_name": "base",
   "language": "python",
   "name": "python3"
  },
  "language_info": {
   "codemirror_mode": {
    "name": "ipython",
    "version": 3
   },
   "file_extension": ".py",
   "mimetype": "text/x-python",
   "name": "python",
   "nbconvert_exporter": "python",
   "pygments_lexer": "ipython3",
   "version": "3.12.2"
  }
 },
 "nbformat": 4,
 "nbformat_minor": 5
}
