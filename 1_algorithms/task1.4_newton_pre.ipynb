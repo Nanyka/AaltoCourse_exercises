{
  "cells": [
    {
      "cell_type": "markdown",
      "id": "359a7deb",
      "metadata": {},
      "source": [
        "# Task 1.3 Newton-Raphson method\n",
        "\n",
        "1. Implement the Newton-Raphson method for finding roots of a continuous function\n",
        "2. Run the example to demonstrate the work of the algorithm\n",
        "3. Using the callback feature, display the relative errors on each iteration\n",
        "4. Compare convergence rate to the bisection method"
      ]
    },
    {
      "cell_type": "code",
      "execution_count": null,
      "id": "5233441b",
      "metadata": {},
      "outputs": [],
      "source": [
        "def newton(fun, grad, x0, tol=1e-6, maxiter=100, callback=None):\n",
        "  '''Newton method for solving equation f(x)=0\n",
        "    with given tolerance and number of iterations.\n",
        "    Callback function is invoked at each iteration if given.\n",
        "    '''\n",
        "  pass        # your code here\n",
        "  # somewhere inside the cycle you should have\n",
        "  # if callback != None: callback(err=err,x0=x0,x1=x1,iter=i)"
      ]
    },
    {
      "cell_type": "code",
      "execution_count": 3,
      "id": "58ae1013",
      "metadata": {},
      "outputs": [],
      "source": [
        "f = lambda x: -4*x**3+5*x+1\n",
        "g = lambda x: -12*x**2+5\n",
        "x = newton(f,g,x0=-2.5,maxiter=7)\n",
        "print('Solution is x=%1.3f, f(x)=%1.12f' % (x,f(x)))"
      ]
    },
    {
      "cell_type": "markdown",
      "id": "ff20bb33",
      "metadata": {},
      "source": [
        "## Rate of convergence\n",
        "\n",
        "- How fast does a solution method converge on the root of the equation?  \n",
        "- Rate of convergence = the rate of decrease of the bias (difference between current guess and the solution)  \n",
        "- Can be approximated by the rate of decrease of the error in the stopping criterion  "
      ]
    },
    {
      "cell_type": "code",
      "execution_count": 4,
      "id": "86823b18",
      "metadata": {},
      "outputs": [],
      "source": [
        "def print_err(iter,err,**kwargs):\n",
        "    x = kwargs['x'] if 'x' in kwargs.keys() else kwargs['x0']\n",
        "    print('{:4d}:  x = {:17.14f}  err = {:8.6e}'.format(iter,x,err))\n",
        "\n",
        "print('Newton method')\n",
        "newton(f,g,x0=-2.5,callback=print_err,tol=1e-10)"
      ]
    }
  ],
  "metadata": {
    "kernelspec": {
      "display_name": "base",
      "language": "python",
      "name": "python3"
    },
    "language_info": {
      "codemirror_mode": {
        "name": "ipython",
        "version": 3
      },
      "file_extension": ".py",
      "mimetype": "text/x-python",
      "name": "python",
      "nbconvert_exporter": "python",
      "pygments_lexer": "ipython3",
      "version": "3.12.2"
    }
  },
  "nbformat": 4,
  "nbformat_minor": 5
}