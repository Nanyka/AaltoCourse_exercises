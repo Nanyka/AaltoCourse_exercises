{
 "cells": [
  {
   "cell_type": "markdown",
   "metadata": {
    "slideshow": {
     "slide_type": "slide"
    }
   },
   "source": [
    "# Task 1.3 Bisections method\n",
    "\n",
    "1. Implement the bisection method for finding roots of a continuous function\n",
    "2. Run the example to demonstrate the work of the algorithm\n",
    "3. Using the callback feature, display the relative errors on each iteration"
   ]
  },
  {
   "cell_type": "code",
   "metadata": {
    "hide-output": false,
    "slideshow": {
     "slide_type": "slide"
    },
    "ExecuteTime": {
     "end_time": "2025-09-02T06:23:06.511255Z",
     "start_time": "2025-09-02T06:23:06.507Z"
    }
   },
   "source": [
    "def bisection(f, a=0, b=1, tol=1e-6, maxiter=100, callback=None):\n",
    "    '''Bisection method for solving equation f(x)=0\n",
    "    on the interval [a,b], with given tolerance and number of iterations.\n",
    "    Callback function is invoked at each iteration if given.\n",
    "    '''\n",
    "\n",
    "    assert f(a) * f(b) < 0, \"Require f_a * f_b < 0\"\n",
    "\n",
    "    step = 0\n",
    "    while step < maxiter:\n",
    "        step += 1\n",
    "        f_a = f(a)\n",
    "        f_b = f(b)\n",
    "\n",
    "        if abs(f_a) < tol or abs(f_b) < tol: return (a+b)/2\n",
    "\n",
    "        x = (a+b)/2\n",
    "        f_x = f(x)\n",
    "        if f_x > 0: a = x\n",
    "        else: b = x\n",
    "        err = f_x\n",
    "        if callback is not None: callback(err=err, x=x, iter=step)"
   ],
   "outputs": [],
   "execution_count": 7
  },
  {
   "cell_type": "code",
   "metadata": {
    "hide-output": false,
    "slideshow": {
     "slide_type": "slide"
    },
    "ExecuteTime": {
     "end_time": "2025-09-02T06:23:08.446837Z",
     "start_time": "2025-09-02T06:23:08.438222Z"
    }
   },
   "source": [
    "f = lambda x: -4*x**3+5*x+1\n",
    "a,b = -3,-.5  # upper and lower limits\n",
    "callback = lambda err,x,iter: print(f\"x = {x}, err = {err}, iter = {iter}\")\n",
    "x = bisection(f,a,b,tol=1e-6,callback=callback)\n",
    "print('Solution is x=%1.3f, f(x)=%1.12f' % (x,f(x)))"
   ],
   "outputs": [
    {
     "name": "stdout",
     "output_type": "stream",
     "text": [
      "x = -1.75, err = 13.6875, iter = 1\n",
      "x = -1.125, err = 1.0703125, iter = 2\n",
      "x = -0.8125, err = -0.9169921875, iter = 3\n",
      "x = -0.96875, err = -0.2071533203125, iter = 4\n",
      "x = -1.046875, err = 0.3549041748046875, iter = 5\n",
      "x = -1.0078125, err = 0.05542182922363281, iter = 6\n",
      "x = -0.98828125, err = -0.08038973808288574, iter = 7\n",
      "x = -0.998046875, err = -0.013626128435134888, iter = 8\n",
      "x = -1.0029296875, err = 0.020610909909009933, iter = 9\n",
      "x = -1.00048828125, err = 0.003420830238610506, iter = 10\n",
      "x = -0.999267578125, err = -0.0051205173949711025, iter = 11\n",
      "x = -0.9998779296875, err = -0.0008543133808416314, iter = 12\n",
      "x = -1.00018310546875, err = 0.0012821406371585908, iter = 13\n",
      "x = -1.000030517578125, err = 0.00021363422285958222, iter = 14\n",
      "x = -0.9999542236328125, err = -0.00032040942498667846, iter = 15\n",
      "x = -0.9999923706054688, err = -5.3405063228595395e-05, iter = 16\n",
      "x = -1.0000114440917969, err = 8.011021419118691e-05, iter = 17\n",
      "x = -1.0000019073486328, err = 1.3351484085433185e-05, iter = 18\n",
      "x = -0.9999971389770508, err = -2.002706241910346e-05, iter = 19\n",
      "x = -0.9999995231628418, err = -3.3378573789377697e-06, iter = 20\n",
      "x = -1.0000007152557373, err = 5.0067963002220495e-06, iter = 21\n",
      "x = -1.0000001192092896, err = 8.344651973857253e-07, iter = 22\n",
      "Solution is x=-1.000, f(x)=-0.000001251697\n"
     ]
    }
   ],
   "execution_count": 8
  },
  {
   "cell_type": "markdown",
   "metadata": {
    "slideshow": {
     "slide_type": "slide"
    }
   },
   "source": [
    "## Rate of convergence\n",
    "\n",
    "- How fast does a solution method converge on the root of the equation?  \n",
    "- Rate of convergence = the rate of decrease of the bias (difference between current guess and the solution)  \n",
    "- Can be approximated by the rate of decrease of the error in the stopping criterion  "
   ]
  },
  {
   "cell_type": "code",
   "metadata": {
    "hide-output": false,
    "slideshow": {
     "slide_type": "slide"
    },
    "ExecuteTime": {
     "end_time": "2025-09-02T06:24:35.968994Z",
     "start_time": "2025-09-02T06:24:35.957981Z"
    }
   },
   "source": [
    "def print_err(iter,err,**kwargs):\n",
    "    x = kwargs['x'] if 'x' in kwargs.keys() else kwargs['x0']\n",
    "    print('{:4d}:  x = {:17.14f}  err = {:8.6e}'.format(iter,x,err))\n",
    "\n",
    "print('Bisection method')\n",
    "bisection(f,a=-3,b=-0.5,callback=print_err,tol=1e-10)"
   ],
   "outputs": [
    {
     "name": "stdout",
     "output_type": "stream",
     "text": [
      "Bisection method\n",
      "   1:  x = -1.75000000000000  err = 1.368750e+01\n",
      "   2:  x = -1.12500000000000  err = 1.070312e+00\n",
      "   3:  x = -0.81250000000000  err = -9.169922e-01\n",
      "   4:  x = -0.96875000000000  err = -2.071533e-01\n",
      "   5:  x = -1.04687500000000  err = 3.549042e-01\n",
      "   6:  x = -1.00781250000000  err = 5.542183e-02\n",
      "   7:  x = -0.98828125000000  err = -8.038974e-02\n",
      "   8:  x = -0.99804687500000  err = -1.362613e-02\n",
      "   9:  x = -1.00292968750000  err = 2.061091e-02\n",
      "  10:  x = -1.00048828125000  err = 3.420830e-03\n",
      "  11:  x = -0.99926757812500  err = -5.120517e-03\n",
      "  12:  x = -0.99987792968750  err = -8.543134e-04\n",
      "  13:  x = -1.00018310546875  err = 1.282141e-03\n",
      "  14:  x = -1.00003051757812  err = 2.136342e-04\n",
      "  15:  x = -0.99995422363281  err = -3.204094e-04\n",
      "  16:  x = -0.99999237060547  err = -5.340506e-05\n",
      "  17:  x = -1.00001144409180  err = 8.011021e-05\n",
      "  18:  x = -1.00000190734863  err = 1.335148e-05\n",
      "  19:  x = -0.99999713897705  err = -2.002706e-05\n",
      "  20:  x = -0.99999952316284  err = -3.337857e-06\n",
      "  21:  x = -1.00000071525574  err = 5.006796e-06\n",
      "  22:  x = -1.00000011920929  err = 8.344652e-07\n",
      "  23:  x = -0.99999982118607  err = -1.251697e-06\n",
      "  24:  x = -0.99999997019768  err = -2.086162e-07\n",
      "  25:  x = -1.00000004470348  err = 3.129244e-07\n",
      "  26:  x = -1.00000000745058  err = 5.215407e-08\n",
      "  27:  x = -0.99999998882413  err = -7.823109e-08\n",
      "  28:  x = -0.99999999813735  err = -1.303852e-08\n",
      "  29:  x = -1.00000000279397  err = 1.955777e-08\n",
      "  30:  x = -1.00000000046566  err = 3.259629e-09\n",
      "  31:  x = -0.99999999930151  err = -4.889444e-09\n",
      "  32:  x = -0.99999999988358  err = -8.149073e-10\n",
      "  33:  x = -1.00000000017462  err = 1.222361e-09\n",
      "  34:  x = -1.00000000002910  err = 2.037268e-10\n",
      "  35:  x = -0.99999999995634  err = -3.055902e-10\n",
      "  36:  x = -0.99999999999272  err = -5.093170e-11\n"
     ]
    },
    {
     "data": {
      "text/plain": [
       "-1.000000000010914"
      ]
     },
     "execution_count": 9,
     "metadata": {},
     "output_type": "execute_result"
    }
   ],
   "execution_count": 9
  }
 ],
 "metadata": {
  "celltoolbar": "Slideshow",
  "date": 1.612589584717071E9,
  "download_nb": false,
  "filename": "13_bisections_newton.rst",
  "filename_with_path": "13_bisections_newton",
  "kernelspec": {
   "display_name": "base",
   "language": "python",
   "name": "python3"
  },
  "language_info": {
   "codemirror_mode": {
    "name": "ipython",
    "version": 3
   },
   "file_extension": ".py",
   "mimetype": "text/x-python",
   "name": "python",
   "nbconvert_exporter": "python",
   "pygments_lexer": "ipython3",
   "version": "3.12.2"
  },
  "title": "Foundations of Computational Economics #13"
 },
 "nbformat": 4,
 "nbformat_minor": 4
}
