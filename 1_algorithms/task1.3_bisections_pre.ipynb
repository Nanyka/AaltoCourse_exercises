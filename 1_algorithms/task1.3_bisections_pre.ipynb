{
  "cells": [
    {
      "cell_type": "markdown",
      "metadata": {
        "slideshow": {
          "slide_type": "slide"
        }
      },
      "source": [
        "# Task 1.3 Bisections method\n",
        "\n",
        "1. Implement the bisection method for finding roots of a continuous function\n",
        "2. Run the example to demonstrate the work of the algorithm\n",
        "3. Using the callback feature, display the relative errors on each iteration"
      ]
    },
    {
      "cell_type": "code",
      "execution_count": null,
      "metadata": {
        "hide-output": false,
        "slideshow": {
          "slide_type": "slide"
        }
      },
      "outputs": [],
      "source": [
        "def bisection(f, a=0, b=1, tol=1e-6, maxiter=100, callback=None):\n",
        "  '''Bisection method for solving equation f(x)=0\n",
        "  on the interval [a,b], with given tolerance and number of iterations.\n",
        "  Callback function is invoked at each iteration if given.\n",
        "  '''\n",
        "  pass        # your code here\n",
        "  # somewhere inside the cycle you should have:\n",
        "  # if callback != None: callback(err=err,x=x,iter=i)"
      ]
    },
    {
      "cell_type": "code",
      "execution_count": 3,
      "metadata": {
        "hide-output": false,
        "slideshow": {
          "slide_type": "slide"
        }
      },
      "outputs": [],
      "source": [
        "f = lambda x: -4*x**3+5*x+1\n",
        "a,b = -3,-.5  # upper and lower limits\n",
        "x = bisection(f,a,b)\n",
        "print('Solution is x=%1.3f, f(x)=%1.12f' % (x,f(x)))"
      ]
    },
    {
      "cell_type": "markdown",
      "metadata": {
        "slideshow": {
          "slide_type": "slide"
        }
      },
      "source": [
        "## Rate of convergence\n",
        "\n",
        "- How fast does a solution method converge on the root of the equation?  \n",
        "- Rate of convergence = the rate of decrease of the bias (difference between current guess and the solution)  \n",
        "- Can be approximated by the rate of decrease of the error in the stopping criterion  "
      ]
    },
    {
      "cell_type": "code",
      "execution_count": 4,
      "metadata": {
        "hide-output": false,
        "slideshow": {
          "slide_type": "slide"
        }
      },
      "outputs": [],
      "source": [
        "def print_err(iter,err,**kwargs):\n",
        "    x = kwargs['x'] if 'x' in kwargs.keys() else kwargs['x0']\n",
        "    print('{:4d}:  x = {:17.14f}  err = {:8.6e}'.format(iter,x,err))\n",
        "\n",
        "print('Bisection method')\n",
        "bisection(f,a=-3,b=-0.5,callback=print_err,tol=1e-10)"
      ]
    }
  ],
  "metadata": {
    "celltoolbar": "Slideshow",
    "date": 1612589584.717071,
    "download_nb": false,
    "filename": "13_bisections_newton.rst",
    "filename_with_path": "13_bisections_newton",
    "kernelspec": {
      "display_name": "base",
      "language": "python",
      "name": "python3"
    },
    "language_info": {
      "codemirror_mode": {
        "name": "ipython",
        "version": 3
      },
      "file_extension": ".py",
      "mimetype": "text/x-python",
      "name": "python",
      "nbconvert_exporter": "python",
      "pygments_lexer": "ipython3",
      "version": "3.12.2"
    },
    "title": "Foundations of Computational Economics #13"
  },
  "nbformat": 4,
  "nbformat_minor": 4
}